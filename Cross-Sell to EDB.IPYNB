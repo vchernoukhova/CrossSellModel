{
 "cells": [
  {
   "cell_type": "markdown",
   "metadata": {},
   "source": [
    "# 1. Pulling The Data"
   ]
  },
  {
   "cell_type": "markdown",
   "metadata": {},
   "source": [
    "## a. Libraries"
   ]
  },
  {
   "cell_type": "code",
   "execution_count": 743,
   "metadata": {},
   "outputs": [],
   "source": [
    "############### My Variables\n",
    "gap = 1\n",
    "history = 3\n",
    "low_tenure = 0"
   ]
  },
  {
   "cell_type": "code",
   "execution_count": 744,
   "metadata": {},
   "outputs": [
    {
     "name": "stdout",
     "output_type": "stream",
     "text": [
      "Populating the interactive namespace from numpy and matplotlib\n"
     ]
    }
   ],
   "source": [
    "############### Libraries\n",
    "%pylab inline\n",
    "import dataiku\n",
    "from dataiku import pandasutils as pdu\n",
    "import pandas as pd\n",
    "import numpy as np\n",
    "pd.set_option('mode.chained_assignment', None)\n",
    "#https://www.dataquest.io/blog/settingwithcopywarning/\n",
    "\n",
    "import datetime\n",
    "from datetime import timedelta\n",
    "import datetime\n",
    "import seaborn as sns\n",
    "import re as re\n",
    "import math\n",
    "import pickle\n",
    "import time\n",
    "import sys\n",
    "import datetime\n",
    "#print(sys.version)\n",
    "import scikitplot as skplt\n",
    "\n",
    "from matplotlib import pyplot as plt\n",
    "from math import log\n",
    "from datetime import datetime, timedelta\n",
    "from numpy import sort\n",
    "\n",
    "import scipy.stats as st\n",
    "import scipy.special as spec\n",
    "\n",
    "from sklearn.preprocessing import Imputer\n",
    "from sklearn.model_selection import train_test_split, StratifiedShuffleSplit,StratifiedKFold, RandomizedSearchCV, GridSearchCV\n",
    "from sklearn.metrics import accuracy_score, log_loss, roc_auc_score, precision_score, recall_score,confusion_matrix, roc_curve, classification_report\n",
    "from sklearn.neighbors import KNeighborsClassifier\n",
    "from sklearn.svm import SVC, LinearSVC, NuSVC\n",
    "from sklearn.tree import DecisionTreeClassifier\n",
    "from sklearn.ensemble import RandomForestClassifier, AdaBoostClassifier, GradientBoostingClassifier, RandomForestRegressor\n",
    "from sklearn.naive_bayes import GaussianNB\n",
    "from sklearn.discriminant_analysis import LinearDiscriminantAnalysis, QuadraticDiscriminantAnalysis\n",
    "from sklearn.linear_model import LogisticRegression\n",
    "from sklearn.feature_selection import SelectFromModel\n",
    "\n",
    "#import scikitplot as skplt\n",
    "\n",
    "from xgboost import XGBClassifier, plot_importance\n",
    "\n",
    "import lightgbm as lgb\n",
    "from lightgbm import LGBMClassifier\n",
    "\n",
    "import warnings\n",
    "warnings.filterwarnings(\"ignore\")"
   ]
  },
  {
   "cell_type": "code",
   "execution_count": 745,
   "metadata": {},
   "outputs": [],
   "source": [
    "############### My Functions\n",
    "def add_date(month_date, num):\n",
    "    \n",
    "    month = month_date%100\n",
    "    year = int(month_date/100)\n",
    "    \n",
    "    if month + num > 0 and month + num <=12:\n",
    "        new_month = month + num\n",
    "        new_year = year\n",
    "    elif month + num <= 0:\n",
    "        new_month = month + num + 12\n",
    "        new_year = year -1 \n",
    "    elif month + num > 12:\n",
    "        new_month = month + num - 12\n",
    "        new_year = year + 1\n",
    "    \n",
    "    return new_year*100+new_month\n",
    "\n",
    "def commas(num):\n",
    "    return '{0:,d}'.format(num)\n",
    "\n",
    "def bold(x):\n",
    "    return '\\033[1m' + x + '\\033[0m'\n",
    "\n"
   ]
  },
  {
   "cell_type": "markdown",
   "metadata": {},
   "source": [
    "## b. My Population"
   ]
  },
  {
   "cell_type": "code",
   "execution_count": 746,
   "metadata": {},
   "outputs": [],
   "source": [
    "# ############### Initial Accounts Table: for each product( cc, edb and other) shows when they were open\n",
    "\n",
    "# start = time.time()\n",
    "# account_sum = dataiku.Dataset(\"account_sum\")\n",
    "# account_sum_df = account_sum.get_dataframe()\n",
    "\n",
    "# end = time.time()\n",
    "# print(\"Dataiku execusion: \", int((end - start)/60), \"minutes\")"
   ]
  },
  {
   "cell_type": "code",
   "execution_count": 747,
   "metadata": {},
   "outputs": [],
   "source": [
    "# print(account_sum_df.type.unique().tolist())\n",
    "# account_sum_df.head()"
   ]
  },
  {
   "cell_type": "code",
   "execution_count": 748,
   "metadata": {},
   "outputs": [],
   "source": [
    "# # acc_group = accounts_df.groupby(['cad_ip_id', 'type'], as_index = False).min()['open_dt'].head()\n",
    "# accounts_pivot = account_sum_df.pivot(index='cad_ip_id', columns = 'type', values = 'open_dt')\n",
    "# accounts_pivot.reset_index(inplace=True)\n",
    "# accounts_pivot.head()"
   ]
  },
  {
   "cell_type": "code",
   "execution_count": 749,
   "metadata": {},
   "outputs": [],
   "source": [
    "# print(accounts_pivot.columns)\n",
    "# accounts_pivot.rename(columns = {'cc   ': 'cc', 'edb  ': 'edb'}, inplace=True)\n",
    "# print(accounts_pivot.columns)"
   ]
  },
  {
   "cell_type": "code",
   "execution_count": 750,
   "metadata": {},
   "outputs": [],
   "source": [
    "# accounts_pivot['cc_monthdate'] = pd.DatetimeIndex(accounts_pivot['cc']).year*100+pd.DatetimeIndex(accounts_pivot['cc']).month\n",
    "# accounts_pivot['edb_monthdate'] = pd.DatetimeIndex(accounts_pivot['edb']).year*100+pd.DatetimeIndex(accounts_pivot['edb']).month\n",
    "\n",
    "# ### 3 months after getting a credit card\n",
    "# #accounts_pivot['after_cc'] = accounts_pivot['cc_monthdate'].apply(add_date, num = 3)\n",
    "# accounts_pivot['after_cc'] = accounts_pivot['cc'] + timedelta(31*(gap+history))\n",
    "# accounts_pivot['after_cc_monthdate'] = pd.DatetimeIndex(accounts_pivot['after_cc']).year*100+pd.DatetimeIndex(accounts_pivot['after_cc']).month\n",
    "\n",
    "# accounts_pivot['min_date'] = accounts_pivot[['cc','edb', 'other']].min(axis=1)\n",
    "\n",
    "# accounts_pivot['tenure']= (accounts_pivot['edb'] - accounts_pivot['min_date']).dt.days\n",
    "# accounts_pivot.head()"
   ]
  },
  {
   "cell_type": "code",
   "execution_count": 751,
   "metadata": {},
   "outputs": [],
   "source": [
    "# ##################### Target Population\n",
    "\n",
    "# # 1. They have to have both edb and credit card\n",
    "# accounts_target = accounts_pivot.loc[(accounts_pivot['edb'].isnull() == False) \n",
    "#                                      & (accounts_pivot['cc'].isnull() == False),:]\n",
    "\n",
    "# # 2. EDB was open after credit card and other products were open after EDB or not at all\n",
    "# accounts_target = accounts_target.loc[(accounts_target['cc'] < accounts_target['edb']) \n",
    "#                                      & ((accounts_target['other'].isnull()) |\n",
    "#                                         (accounts_target['other']>=accounts_target['edb']) ),:]\n",
    "\n",
    "# # 3. EDB was open at least gap+history months after Credit Card\n",
    "# accounts_target = accounts_target.loc[accounts_target['edb']>accounts_target['after_cc'],:]\n",
    "\n",
    "# print(accounts_target.shape)\n",
    "# accounts_target.head()"
   ]
  },
  {
   "cell_type": "code",
   "execution_count": 752,
   "metadata": {},
   "outputs": [],
   "source": [
    "# #accounts_target.loc[accounts_target['tenure']<=365,].count()\n",
    "# # 22,764\n",
    "# # 4,744\n",
    "\n",
    "# ################################## ONLY LOW TENURE  ##################################\n",
    "\n",
    "# if low_tenure == 1:\n",
    "#     accounts_target = accounts_target.loc[accounts_target['tenure']<=365,]\n"
   ]
  },
  {
   "cell_type": "code",
   "execution_count": 753,
   "metadata": {},
   "outputs": [],
   "source": [
    "# target_table = accounts_target[['cad_ip_id', 'edb_monthdate']]\n",
    "# target_table = target_table.rename(columns = {'edb_monthdate': 'target_month'})\n",
    "# target_table['target_month'] = target_table['target_month'].astype('int')\n",
    "# target_table.loc[:,'target'] =1\n",
    "# target_table.head()"
   ]
  },
  {
   "cell_type": "code",
   "execution_count": 754,
   "metadata": {},
   "outputs": [],
   "source": [
    "# target_table.groupby(['target_month']).count()[['cad_ip_id']]"
   ]
  },
  {
   "cell_type": "code",
   "execution_count": 755,
   "metadata": {},
   "outputs": [],
   "source": [
    "# counts = target_table.groupby(['target_month']).count()['cad_ip_id']\n",
    "\n",
    "# months = counts.index.tolist()\n",
    "# #[item for sublist in counts.values.tolist() for item in sublist]\n",
    "# numbers = counts.values.tolist() "
   ]
  },
  {
   "cell_type": "code",
   "execution_count": 756,
   "metadata": {},
   "outputs": [],
   "source": [
    "# ##################### Non Target Population\n",
    "\n",
    "# # 1. They have to have only a credit card, and no EDB or other products\n",
    "# accounts_non_target = accounts_pivot.loc[(accounts_pivot['cc'].isnull() == False) \n",
    "#                                              & (accounts_pivot['edb'].isnull() == True)\n",
    "#                                              & (accounts_pivot['other'].isnull() == True),:]\n",
    "\n",
    "# print(accounts_non_target.shape)\n",
    "# accounts_non_target.head()"
   ]
  },
  {
   "cell_type": "code",
   "execution_count": 757,
   "metadata": {},
   "outputs": [],
   "source": [
    "# non_target_table = pd.DataFrame(columns = ['cad_ip_id', 'target_month'])"
   ]
  },
  {
   "cell_type": "code",
   "execution_count": 758,
   "metadata": {},
   "outputs": [],
   "source": [
    "# coeff = 9  #9 means we have 9 times more of non-target so 90% of the data will be non target \n",
    "\n",
    "# for mnth, num in zip(months, numbers):\n",
    "#     to_append = accounts_non_target\n",
    "#     to_append.loc[:,'target_month'] = mnth\n",
    "    \n",
    "#     #calculate tenure to only include low tenure \n",
    "#     to_append['year'] = round(to_append['target_month']/100,0)\n",
    "#     to_append['month'] = to_append['target_month']%100\n",
    "#     to_append['day'] = 1\n",
    "#     to_append['tenure'] = (pd.to_datetime(to_append[['year','month','day']]) - pd.to_datetime(to_append['min_date'])).astype('timedelta64[D]')\n",
    "\n",
    "#     if low_tenure ==1:\n",
    "#         to_append = to_append.loc[(to_append['after_cc_monthdate'] < to_append['target_month']) & (to_append['tenure']<=365),['cad_ip_id', 'target_month']].sample(n = num*coeff)\n",
    "#     else:\n",
    "#         to_append = to_append.loc[to_append['after_cc_monthdate'] < to_append['target_month'],['cad_ip_id', 'target_month']].sample(n = num*coeff)\n",
    "\n",
    "    \n",
    "#     non_target_table = non_target_table.append(to_append, ignore_index = True)"
   ]
  },
  {
   "cell_type": "code",
   "execution_count": 759,
   "metadata": {},
   "outputs": [],
   "source": [
    "# non_target_table.loc[:,'target'] =0\n",
    "# non_target_table.head()"
   ]
  },
  {
   "cell_type": "code",
   "execution_count": 760,
   "metadata": {},
   "outputs": [],
   "source": [
    "# non_target_table.groupby(['target_month'])[['cad_ip_id']].count()"
   ]
  },
  {
   "cell_type": "code",
   "execution_count": 761,
   "metadata": {},
   "outputs": [],
   "source": [
    "# overall_population = target_table.append(non_target_table, ignore_index = True)\n",
    "# overall_population = overall_population.loc[overall_population['target_month']!= 201906,:]\n",
    "\n",
    "# overall_population['hist_end'] = overall_population['target_month'].apply(add_date, num = -1-gap )\n",
    "# overall_population['hist_start'] = overall_population['hist_end'].apply(add_date, num = -history+1 )\n",
    "# overall_population.tail()"
   ]
  },
  {
   "cell_type": "code",
   "execution_count": 762,
   "metadata": {},
   "outputs": [],
   "source": [
    "# overall_population.groupby(['target']).count()[['cad_ip_id']]"
   ]
  },
  {
   "cell_type": "code",
   "execution_count": 763,
   "metadata": {},
   "outputs": [],
   "source": [
    "# #overall_population"
   ]
  },
  {
   "cell_type": "code",
   "execution_count": 764,
   "metadata": {},
   "outputs": [],
   "source": [
    "# start = time.time()\n",
    "# overall_population = dataiku.Dataset(\"overall_population\")\n",
    "# overall_population = overall_population.get_dataframe()\n",
    "\n",
    "# end = time.time()\n",
    "# print(\"Dataiku execusion: \", int((end - start)/60), \"minutes\")"
   ]
  },
  {
   "cell_type": "code",
   "execution_count": 765,
   "metadata": {},
   "outputs": [
    {
     "name": "stdout",
     "output_type": "stream",
     "text": [
      "Dataiku execusion:  0 minutes\n",
      "Dataiku execusion:  0 minutes\n"
     ]
    }
   ],
   "source": [
    "start = time.time()\n",
    "population_all_tenure = dataiku.Dataset(\"population_high_tenure\")\n",
    "population_all_tenure = population_all_tenure.get_dataframe()\n",
    "\n",
    "end = time.time()\n",
    "print(\"Dataiku execusion: \", int((end - start)/60), \"minutes\")\n",
    "\n",
    "##########\n",
    "\n",
    "start = time.time()\n",
    "population_low_tenure = dataiku.Dataset(\"population_low_tenure\")\n",
    "population_low_tenure = population_low_tenure.get_dataframe()\n",
    "\n",
    "end = time.time()\n",
    "print(\"Dataiku execusion: \", int((end - start)/60), \"minutes\")"
   ]
  },
  {
   "cell_type": "code",
   "execution_count": 766,
   "metadata": {},
   "outputs": [
    {
     "name": "stdout",
     "output_type": "stream",
     "text": [
      "\u001b[1mAll Tenure: \n",
      "\u001b[0m\n",
      "        cad_ip_id\n",
      "target           \n",
      "0.0        199602\n",
      "1.0         22178\n",
      "\u001b[1m\n",
      "Low Tenure: \n",
      "\u001b[0m\n",
      "        cad_ip_id\n",
      "target           \n",
      "0.0         41904\n",
      "1.0          4656\n"
     ]
    }
   ],
   "source": [
    "print(bold('All Tenure: \\n'))\n",
    "print( population_all_tenure.groupby(['target']).count()[['cad_ip_id']] )  #/population_all_tenure.count()[['cad_ip_id']]\n",
    "print(bold('\\nLow Tenure: \\n'))\n",
    "print(population_low_tenure.groupby(['target']).count()[['cad_ip_id']]) #/population_low_tenure.count()[['cad_ip_id']]"
   ]
  },
  {
   "cell_type": "code",
   "execution_count": 767,
   "metadata": {},
   "outputs": [],
   "source": [
    "if low_tenure == 1:\n",
    "    overall_population = population_low_tenure\n",
    "else:\n",
    "    overall_population = population_all_tenure"
   ]
  },
  {
   "cell_type": "markdown",
   "metadata": {},
   "source": [
    "## c. Customer Data"
   ]
  },
  {
   "cell_type": "code",
   "execution_count": 768,
   "metadata": {},
   "outputs": [],
   "source": [
    "# start = time.time()\n",
    "# customer_data = dataiku.Dataset(\"customer_data\")\n",
    "# customer_data_df = customer_data.get_dataframe()\n",
    "\n",
    "# end = time.time()\n",
    "# print(\"Dataiku execusion: \", int((end - start)/60), \"minutes\")"
   ]
  },
  {
   "cell_type": "code",
   "execution_count": 769,
   "metadata": {},
   "outputs": [
    {
     "name": "stdout",
     "output_type": "stream",
     "text": [
      "Dataiku execusion:  0 minutes\n",
      "Dataiku execusion:  0 minutes\n"
     ]
    }
   ],
   "source": [
    "start = time.time()\n",
    "customer_low = dataiku.Dataset(\"customer_low\")\n",
    "customer_low_df = customer_low.get_dataframe()\n",
    "\n",
    "end = time.time()\n",
    "print(\"Dataiku execusion: \", int((end - start)/60), \"minutes\")\n",
    "\n",
    "########\n",
    "\n",
    "start = time.time()\n",
    "customer_high = dataiku.Dataset(\"customer_high\")\n",
    "customer_high_df = customer_high.get_dataframe()\n",
    "\n",
    "end = time.time()\n",
    "print(\"Dataiku execusion: \", int((end - start)/60), \"minutes\")"
   ]
  },
  {
   "cell_type": "code",
   "execution_count": 770,
   "metadata": {},
   "outputs": [],
   "source": [
    "if low_tenure == 1:\n",
    "    customer_data_df = customer_low_df\n",
    "else:\n",
    "    customer_data_df = customer_high_df"
   ]
  },
  {
   "cell_type": "code",
   "execution_count": 771,
   "metadata": {},
   "outputs": [
    {
     "name": "stdout",
     "output_type": "stream",
     "text": [
      "By selecting customers with full 3 months of history we reduced data from 382113 to 325353 observations (by 14.9 %)\n"
     ]
    }
   ],
   "source": [
    "customer_data_filtered = customer_data_df.groupby(['cad_ip_id']).filter(lambda x: len(x)==history)\n",
    "\n",
    "old_count = customer_data_df.count()[1]\n",
    "new_count = customer_data_filtered.count()[1]\n",
    "\n",
    "print('By selecting customers with full', history,'months of history we reduced data from', \n",
    "      old_count, 'to', new_count, 'observations (by', round((old_count-new_count)*100/old_count,1),'%)' )"
   ]
  },
  {
   "cell_type": "code",
   "execution_count": null,
   "metadata": {},
   "outputs": [],
   "source": [
    "#customer_data_filtered.head()"
   ]
  },
  {
   "cell_type": "markdown",
   "metadata": {},
   "source": [
    "## d. Accounts Data"
   ]
  },
  {
   "cell_type": "code",
   "execution_count": 773,
   "metadata": {},
   "outputs": [],
   "source": [
    "# start = time.time()\n",
    "# account_data = dataiku.Dataset(\"account_data\")\n",
    "# account_data_df = account_data.get_dataframe()\n",
    "\n",
    "# end = time.time()\n",
    "# print(\"Dataiku execusion: \", int((end - start)/60), \"minutes\")"
   ]
  },
  {
   "cell_type": "code",
   "execution_count": 774,
   "metadata": {},
   "outputs": [
    {
     "name": "stdout",
     "output_type": "stream",
     "text": [
      "Dataiku execusion:  0 minutes\n",
      "Dataiku execusion:  0 minutes\n"
     ]
    }
   ],
   "source": [
    "start = time.time()\n",
    "accounts_low = dataiku.Dataset(\"accounts_low\")\n",
    "accounts_low_df = accounts_low.get_dataframe()\n",
    "\n",
    "end = time.time()\n",
    "print(\"Dataiku execusion: \", int((end - start)/60), \"minutes\")\n",
    "\n",
    "######\n",
    "\n",
    "start = time.time()\n",
    "accounts_high = dataiku.Dataset(\"accounts_high\")\n",
    "accounts_high_df = accounts_high.get_dataframe()\n",
    "\n",
    "end = time.time()\n",
    "print(\"Dataiku execusion: \", int((end - start)/60), \"minutes\")"
   ]
  },
  {
   "cell_type": "code",
   "execution_count": 775,
   "metadata": {},
   "outputs": [],
   "source": [
    "if low_tenure == 1:\n",
    "    account_data_df = accounts_low_df\n",
    "else:\n",
    "    account_data_df = accounts_high_df"
   ]
  },
  {
   "cell_type": "code",
   "execution_count": 776,
   "metadata": {},
   "outputs": [],
   "source": [
    "#### Before calculating averaging accounts for a customer, let's fix the data\n",
    "\n",
    "score_variables = ['algnd_TRIAD_scr', 'cr_scr']\n",
    "for var in score_variables:\n",
    "    account_data_df.loc[account_data_df[var] == 0, var] = np.NaN"
   ]
  },
  {
   "cell_type": "code",
   "execution_count": 777,
   "metadata": {},
   "outputs": [],
   "source": [
    "#this data might countain several accounts for one customer and one month\n",
    "account_data_grouped = account_data_df.groupby(['cad_ip_id', 'ym_id']).mean()\n",
    "account_data_grouped.reset_index(inplace=True)"
   ]
  },
  {
   "cell_type": "code",
   "execution_count": null,
   "metadata": {},
   "outputs": [],
   "source": [
    "#account_data_grouped.head()"
   ]
  },
  {
   "cell_type": "code",
   "execution_count": 779,
   "metadata": {},
   "outputs": [],
   "source": [
    "########## Check: Did your grouping work properly? \n",
    "\n",
    "#account_data_df.groupby(['cad_ip_id', 'ym_id']).count()\n",
    "#account_data_df.loc[account_data_df['cad_ip_id']==46375, ] \n",
    "#account_data_grouped.loc[account_data_grouped['cad_ip_id']==46375,]"
   ]
  },
  {
   "cell_type": "code",
   "execution_count": 780,
   "metadata": {},
   "outputs": [
    {
     "name": "stdout",
     "output_type": "stream",
     "text": [
      "By selecting customers with full 3 months of history we reduced data from 450079 to 409827 observations (by 8.9 %)\n"
     ]
    }
   ],
   "source": [
    "account_data_filtered = account_data_grouped.groupby(['cad_ip_id']).filter(lambda x: len(x)==history)\n",
    "\n",
    "old_count = account_data_grouped.count()[1]\n",
    "new_count = account_data_filtered.count()[1]\n",
    "\n",
    "print('By selecting customers with full', history,'months of history we reduced data from', \n",
    "      old_count, 'to', new_count, 'observations (by', round((old_count -new_count)*100/old_count,1),'%)' )"
   ]
  },
  {
   "cell_type": "markdown",
   "metadata": {},
   "source": [
    "## e. Equifax Data"
   ]
  },
  {
   "cell_type": "code",
   "execution_count": 781,
   "metadata": {},
   "outputs": [
    {
     "name": "stdout",
     "output_type": "stream",
     "text": [
      "Dataiku execusion:  0 minutes\n",
      "Dataiku execusion:  0 minutes\n"
     ]
    }
   ],
   "source": [
    "start = time.time()\n",
    "equifax_low = dataiku.Dataset(\"equifax_low\")\n",
    "equifax_low_df = equifax_low.get_dataframe()\n",
    "\n",
    "end = time.time()\n",
    "print(\"Dataiku execusion: \", int((end - start)/60), \"minutes\")\n",
    "\n",
    "#####\n",
    "\n",
    "start = time.time()\n",
    "equifax_high = dataiku.Dataset(\"equifax_high\")\n",
    "equifax_high_df = equifax_high.get_dataframe()\n",
    "\n",
    "end = time.time()\n",
    "print(\"Dataiku execusion: \", int((end - start)/60), \"minutes\")"
   ]
  },
  {
   "cell_type": "code",
   "execution_count": 782,
   "metadata": {},
   "outputs": [],
   "source": [
    "if low_tenure == 1:\n",
    "    equifax_data_df = equifax_low_df\n",
    "else:\n",
    "    equifax_data_df = equifax_high_df"
   ]
  },
  {
   "cell_type": "code",
   "execution_count": 783,
   "metadata": {},
   "outputs": [],
   "source": [
    "#this data might countain several equifax ids for one customer and one month\n",
    "equifax_data_grouped = equifax_data_df.groupby(['cad_ip_id', 'hist_end']).mean()\n",
    "equifax_data_grouped.reset_index(inplace=True)\n",
    "equifax_data_grouped = equifax_data_grouped.drop('hist_end',1) "
   ]
  },
  {
   "cell_type": "code",
   "execution_count": null,
   "metadata": {},
   "outputs": [],
   "source": [
    "#equifax_data_grouped.head()"
   ]
  },
  {
   "cell_type": "markdown",
   "metadata": {},
   "source": [
    "## f. Combining All Data"
   ]
  },
  {
   "cell_type": "code",
   "execution_count": 785,
   "metadata": {},
   "outputs": [
    {
     "name": "stdout",
     "output_type": "stream",
     "text": [
      " Initial Population: 211,559 \n",
      " Customer Data: 108,451 \n",
      " Accounts Data:  136,609 \n",
      " Equifax Data:  107,710\n"
     ]
    }
   ],
   "source": [
    "print(' Initial Population:' ,'{0:,d}'.format(overall_population['cad_ip_id'].nunique()), '\\n',\n",
    "      'Customer Data:', '{0:,d}'.format(customer_data_filtered['cad_ip_id'].nunique()), '\\n',\n",
    "      'Accounts Data: ', '{0:,d}'.format(account_data_filtered['cad_ip_id'].nunique()), '\\n',\n",
    "      'Equifax Data: ', '{0:,d}'.format(equifax_data_grouped['cad_ip_id'].nunique()))"
   ]
  },
  {
   "cell_type": "code",
   "execution_count": 786,
   "metadata": {},
   "outputs": [
    {
     "name": "stdout",
     "output_type": "stream",
     "text": [
      "Overall Population: 98,261\n"
     ]
    }
   ],
   "source": [
    "all_data = overall_population.merge(customer_data_filtered, on = 'cad_ip_id').merge(account_data_filtered, on = ['cad_ip_id', 'ym_id']).merge(equifax_data_grouped, on = ['cad_ip_id'])\n",
    "print('Overall Population:' ,'{0:,d}'.format(all_data['cad_ip_id'].nunique()))"
   ]
  },
  {
   "cell_type": "code",
   "execution_count": 787,
   "metadata": {},
   "outputs": [
    {
     "data": {
      "text/html": [
       "\n",
       "            <button style=\"display:none\" \n",
       "            class=\"btn btn-default ipython-export-btn\" \n",
       "            id=\"btn-df-e7e53eeb-4363-44f0-9c88-f423b028185d\" \n",
       "            onclick=\"_export_df('e7e53eeb-4363-44f0-9c88-f423b028185d')\">\n",
       "                Export dataframe\n",
       "            </button>\n",
       "            \n",
       "            <script>\n",
       "                \n",
       "                function _check_export_df_possible(dfid,yes_fn,no_fn) {\n",
       "                    console.log('Checking dataframe exportability...')\n",
       "                    if(!IPython || !IPython.notebook || !IPython.notebook.kernel || !IPython.notebook.kernel) {\n",
       "                        console.log('Export is not possible (IPython kernel is not available)')\n",
       "                        if(no_fn) {\n",
       "                            no_fn();\n",
       "                        }\n",
       "                    } else {\n",
       "                        var pythonCode = 'from dataiku.notebook.export import IPythonExporter;IPythonExporter._check_export_stdout(\"'+dfid+'\")';\n",
       "                        IPython.notebook.kernel.execute(pythonCode,{iopub: {output: function(resp) {\n",
       "                            console.info(\"Exportability response\", resp);\n",
       "                            var size = /^([0-9]+)x([0-9]+)$/.exec(resp.content.data || resp.content.text)\n",
       "                            if(!size) {\n",
       "                                console.log('Export is not possible (dataframe is not in-memory anymore)')\n",
       "                                if(no_fn) {\n",
       "                                    no_fn();\n",
       "                                }\n",
       "                            } else {\n",
       "                                console.log('Export is possible')\n",
       "                                if(yes_fn) {\n",
       "                                    yes_fn(1*size[1],1*size[2]);\n",
       "                                }\n",
       "                            }\n",
       "                        }}});\n",
       "                    }\n",
       "                }\n",
       "            \n",
       "                function _export_df(dfid) {\n",
       "                    \n",
       "                    var btn = $('#btn-df-'+dfid);\n",
       "                    var btns = $('.ipython-export-btn');\n",
       "                    \n",
       "                    _check_export_df_possible(dfid,function() {\n",
       "                        \n",
       "                        window.parent.openExportModalFromIPython('Pandas dataframe',function(data) {\n",
       "                            btns.prop('disabled',true);\n",
       "                            btn.text('Exporting...');\n",
       "                            var command = 'from dataiku.notebook.export import IPythonExporter;IPythonExporter._run_export(\"'+dfid+'\",\"'+data.exportId+'\")';\n",
       "                            var callback = {iopub:{output: function(resp) {\n",
       "                                console.info(\"CB resp:\", resp);\n",
       "                                _check_export_df_possible(dfid,function(rows, cols) {\n",
       "                                    $('#btn-df-'+dfid)\n",
       "                                        .css('display','inline-block')\n",
       "                                        .text('Export this dataframe ('+rows+' rows, '+cols+' cols)')\n",
       "                                        .prop('disabled',false);\n",
       "                                },function() {\n",
       "                                    $('#btn-df-'+dfid).css('display','none');\n",
       "                                });\n",
       "                            }}};\n",
       "                            IPython.notebook.kernel.execute(command,callback,{silent:false}); // yes, silent now defaults to true. figures.\n",
       "                        });\n",
       "                    \n",
       "                    }, function(){\n",
       "                            alert('Unable to export : the Dataframe object is not loaded in memory');\n",
       "                            btn.css('display','none');\n",
       "                    });\n",
       "                    \n",
       "                }\n",
       "                \n",
       "                (function(dfid) {\n",
       "                \n",
       "                    var retryCount = 10;\n",
       "                \n",
       "                    function is_valid_websock(s) {\n",
       "                        return s && s.readyState==1;\n",
       "                    }\n",
       "                \n",
       "                    function check_conn() {\n",
       "                        \n",
       "                        if(!IPython || !IPython.notebook) {\n",
       "                            // Don't even try to go further\n",
       "                            return;\n",
       "                        }\n",
       "                        \n",
       "                        // Check if IPython is ready\n",
       "                        console.info(\"Checking conn ...\")\n",
       "                        if(IPython.notebook.kernel\n",
       "                        && IPython.notebook.kernel\n",
       "                        && is_valid_websock(IPython.notebook.kernel.ws)\n",
       "                        ) {\n",
       "                            \n",
       "                            _check_export_df_possible(dfid,function(rows, cols) {\n",
       "                                $('#btn-df-'+dfid).css('display','inline-block');\n",
       "                                $('#btn-df-'+dfid).text('Export this dataframe ('+rows+' rows, '+cols+' cols)');\n",
       "                            });\n",
       "                            \n",
       "                        } else {\n",
       "                            console.info(\"Conditions are not ok\", IPython.notebook.kernel);\n",
       "                            \n",
       "                            // Retry later\n",
       "                            \n",
       "                            if(retryCount>0) {\n",
       "                                setTimeout(check_conn,500);\n",
       "                                retryCount--;\n",
       "                            }\n",
       "                            \n",
       "                        }\n",
       "                    };\n",
       "                    \n",
       "                    setTimeout(check_conn,100);\n",
       "                    \n",
       "                })(\"e7e53eeb-4363-44f0-9c88-f423b028185d\");\n",
       "                \n",
       "            </script>\n",
       "            \n",
       "        <div>\n",
       "<style>\n",
       "    .dataframe thead tr:only-child th {\n",
       "        text-align: right;\n",
       "    }\n",
       "\n",
       "    .dataframe thead th {\n",
       "        text-align: left;\n",
       "    }\n",
       "\n",
       "    .dataframe tbody tr th {\n",
       "        vertical-align: top;\n",
       "    }\n",
       "</style>\n",
       "<table border=\"1\" class=\"dataframe\">\n",
       "  <thead>\n",
       "    <tr style=\"text-align: right;\">\n",
       "      <th></th>\n",
       "      <th>cad_ip_id</th>\n",
       "    </tr>\n",
       "    <tr>\n",
       "      <th>target</th>\n",
       "      <th></th>\n",
       "    </tr>\n",
       "  </thead>\n",
       "  <tbody>\n",
       "    <tr>\n",
       "      <th>0.0</th>\n",
       "      <td>28415.666667</td>\n",
       "    </tr>\n",
       "    <tr>\n",
       "      <th>1.0</th>\n",
       "      <td>4338.000000</td>\n",
       "    </tr>\n",
       "  </tbody>\n",
       "</table>\n",
       "</div>"
      ],
      "text/plain": [
       "           cad_ip_id\n",
       "target              \n",
       "0.0     28415.666667\n",
       "1.0      4338.000000"
      ]
     },
     "execution_count": 787,
     "metadata": {},
     "output_type": "execute_result"
    }
   ],
   "source": [
    "all_data.groupby(['target'])[['cad_ip_id']].nunique()/3"
   ]
  },
  {
   "cell_type": "markdown",
   "metadata": {},
   "source": [
    "# 2. Data Preparation"
   ]
  },
  {
   "cell_type": "code",
   "execution_count": null,
   "metadata": {},
   "outputs": [],
   "source": [
    "#all_data.head()"
   ]
  },
  {
   "cell_type": "markdown",
   "metadata": {},
   "source": [
    "## a. Variable Manipulation"
   ]
  },
  {
   "cell_type": "code",
   "execution_count": 789,
   "metadata": {},
   "outputs": [],
   "source": [
    "################################ ALL VARIABLES ################################\n",
    "\n",
    "variables_all = list(all_data)"
   ]
  },
  {
   "cell_type": "code",
   "execution_count": 790,
   "metadata": {},
   "outputs": [],
   "source": [
    "################################ NULL VARIABLES ################################\n",
    "\n",
    "variables_contain_null = list()\n",
    "for variable in variables_all:\n",
    "    if all_data[variable].isnull().sum() > 0:\n",
    "        variables_contain_null.append(variable)\n",
    "        \n",
    "percent_missing = round(all_data[variables_contain_null].isnull().sum()/all_data[variables_contain_null].isnull().count()*100,2)\n",
    "variables_missing = percent_missing[percent_missing>30].keys().tolist()\n",
    "\n",
    "variables_null = [x for x in variables_contain_null if x not in variables_missing ]\n",
    "#percent_missing[variables_null]"
   ]
  },
  {
   "cell_type": "code",
   "execution_count": 791,
   "metadata": {},
   "outputs": [],
   "source": [
    "################################ DROP VARIABLES ################################\n",
    "\n",
    "variables_to_drop = variables_missing + ['cad_acct_id']\n",
    "\n",
    "for variable in variables_to_drop:\n",
    "    all_data = all_data.drop(variable,1) "
   ]
  },
  {
   "cell_type": "code",
   "execution_count": 792,
   "metadata": {},
   "outputs": [],
   "source": [
    "################################ Fill NAs ################################\n",
    "\n",
    "variables_obj = all_data.select_dtypes(include = ['object', 'O']).columns.tolist()\n",
    "variables_num = all_data.select_dtypes(include = ['float64']).columns.tolist()\n",
    "\n",
    "for variable in variables_num:\n",
    "    all_data[variable].fillna(all_data[variable].mean(), inplace=True)\n",
    "    \n",
    "for variable in variables_obj:\n",
    "    all_data[variable].fillna(all_data[variable].mode(), inplace=True)"
   ]
  },
  {
   "cell_type": "code",
   "execution_count": 793,
   "metadata": {},
   "outputs": [
    {
     "data": {
      "text/plain": [
       "['gender_cd',\n",
       " 'city_nm',\n",
       " 'prov_cd',\n",
       " 'cntry_cd',\n",
       " 'FSA',\n",
       " 'mrtl_st_cd',\n",
       " 'TIB_cd',\n",
       " 'hsg_tnr_typ_cd']"
      ]
     },
     "execution_count": 793,
     "metadata": {},
     "output_type": "execute_result"
    }
   ],
   "source": [
    "variables_obj"
   ]
  },
  {
   "cell_type": "code",
   "execution_count": 794,
   "metadata": {},
   "outputs": [],
   "source": [
    "################################ DATE VARIABLES ################################\n",
    "\n",
    "variables_dates = all_data.select_dtypes(include = ['datetime']).columns.tolist()\n",
    "\n",
    "for variable in variables_dates:\n",
    "    new_variable = 'since_' + variable\n",
    "    \n",
    "    all_data['year'] = round(all_data['hist_end']/100,0)\n",
    "    all_data['month'] = all_data['hist_end']%100\n",
    "    all_data['day'] = 1\n",
    "    \n",
    "    all_data[new_variable] = (pd.to_datetime(all_data[['year','month','day']]) - pd.to_datetime(all_data[variable])).astype('timedelta64[D]')\n",
    "    \n",
    "    all_data = all_data.drop('year',1)\n",
    "    all_data = all_data.drop('month',1)\n",
    "    all_data = all_data.drop('day',1)\n",
    "    \n",
    "    all_data = all_data.drop(variable,1) "
   ]
  },
  {
   "cell_type": "code",
   "execution_count": 795,
   "metadata": {},
   "outputs": [],
   "source": [
    "################################ TOO MANY LEVELS VARIABLES ################################\n",
    "\n",
    "variables_obj = all_data.select_dtypes(include = ['object', 'O']).columns.tolist()\n",
    "variables_num = all_data.select_dtypes(include = ['float64']).columns.tolist()\n",
    "\n",
    "unique_counts = all_data[variables_obj].nunique()\n",
    "variables_many_levels = unique_counts[unique_counts>200].keys().tolist()\n",
    "\n",
    "variables_to_drop = variables_many_levels\n",
    "\n",
    "for variable in variables_to_drop:\n",
    "    all_data = all_data.drop(variable,1)\n",
    "    \n",
    "#variables_obj = [x for x in variables_obj if x not in variables_to_drop]\n",
    "variables_obj = all_data.select_dtypes(include = ['object', 'O']).columns.tolist()\n",
    "variables_num = all_data.select_dtypes(include = ['float64']).columns.tolist()"
   ]
  },
  {
   "cell_type": "code",
   "execution_count": 796,
   "metadata": {},
   "outputs": [
    {
     "data": {
      "text/plain": [
       "gender_cd          3\n",
       "prov_cd           19\n",
       "cntry_cd           3\n",
       "mrtl_st_cd         7\n",
       "TIB_cd             1\n",
       "hsg_tnr_typ_cd     5\n",
       "dtype: int64"
      ]
     },
     "execution_count": 796,
     "metadata": {},
     "output_type": "execute_result"
    }
   ],
   "source": [
    "unique_counts[variables_obj]"
   ]
  },
  {
   "cell_type": "code",
   "execution_count": 797,
   "metadata": {},
   "outputs": [],
   "source": [
    "## Add\n",
    "all_data[['month']] = all_data[['hist_end']]%100"
   ]
  },
  {
   "cell_type": "code",
   "execution_count": 798,
   "metadata": {},
   "outputs": [],
   "source": [
    "#### Provinces\n",
    "provinces = all_data.groupby(['prov_cd']).count()['target'].sort_values(ascending = False)\n",
    "big_provinces = provinces[provinces>1000].keys().tolist()\n",
    "all_data.loc[all_data['prov_cd'].isin(big_provinces) == False, 'prov_cd'] = 'OTH'\n",
    "\n",
    "#### Countries\n",
    "countries = all_data.groupby(['cntry_cd']).count()['target'].sort_values(ascending = False)\n",
    "big_countries = countries[countries>=100].keys().tolist()\n",
    "all_data.loc[all_data['cntry_cd'].isin(big_countries) == False, 'cntry_cd'] = 'OTH'\n",
    "\n",
    "# #### Occupations\n",
    "# occupations = all_data.groupby(['occptn_cd']).count()['target'].sort_values(ascending = False)\n",
    "# big_occupations = occupations[occupations>=500].keys().tolist()\n",
    "# all_data.loc[all_data['occptn_cd'].isin(big_occupations) == False, 'occptn_cd'] = 'OTH'"
   ]
  },
  {
   "cell_type": "code",
   "execution_count": 799,
   "metadata": {},
   "outputs": [],
   "source": [
    "# change all indicators to be categorical variables except the response\n",
    "all_variables = list(all_data)\n",
    "all_variables = [x for x in all_variables if x not in ['cntry_cd', 'mth_indvdl_inc_amt', 'target']] \n",
    "to_type = 'object'\n",
    "for variable in all_variables:\n",
    "    if 'ind' in variable or variable in ['occptn_cd', 'month']:\n",
    "        all_data.loc[:,variable] = all_data[variable].astype(to_type)"
   ]
  },
  {
   "cell_type": "code",
   "execution_count": null,
   "metadata": {},
   "outputs": [],
   "source": [
    "#all_data.head()"
   ]
  },
  {
   "cell_type": "code",
   "execution_count": 801,
   "metadata": {},
   "outputs": [],
   "source": [
    "## Delete\n",
    "variables_to_drop = ['target_month', 'hist_start']\n",
    "\n",
    "for variable in variables_to_drop:\n",
    "    all_data = all_data.drop(variable,1)"
   ]
  },
  {
   "cell_type": "markdown",
   "metadata": {},
   "source": [
    "## b. Average Variables"
   ]
  },
  {
   "cell_type": "code",
   "execution_count": 802,
   "metadata": {},
   "outputs": [],
   "source": [
    "averages = all_data.groupby(['cad_ip_id']).mean()"
   ]
  },
  {
   "cell_type": "code",
   "execution_count": 803,
   "metadata": {},
   "outputs": [],
   "source": [
    "names = list(averages)\n",
    "new_names = ['avg_' + x for x in names]\n",
    "\n",
    "names_map = dict(zip(names,new_names))\n",
    "averages.rename(columns = names_map, inplace = True)"
   ]
  },
  {
   "cell_type": "code",
   "execution_count": null,
   "metadata": {},
   "outputs": [],
   "source": [
    "#averages.head()"
   ]
  },
  {
   "cell_type": "code",
   "execution_count": 805,
   "metadata": {},
   "outputs": [],
   "source": [
    "## Delete\n",
    "variables_to_drop = ['avg_hist_end', 'avg_ym_id', 'avg_tnr_mth_nbr', 'avg_age',\n",
    "                     'avg_since_cust_since_dt', 'avg_target'] \n",
    "\n",
    "for variable in variables_to_drop:\n",
    "    averages = averages.drop(variable,1)"
   ]
  },
  {
   "cell_type": "markdown",
   "metadata": {},
   "source": [
    "## c. Last Month Variables"
   ]
  },
  {
   "cell_type": "code",
   "execution_count": 806,
   "metadata": {},
   "outputs": [],
   "source": [
    "last_month = all_data.loc[all_data['hist_end'] == all_data['ym_id'],:]\n",
    "last_month.set_index('cad_ip_id', inplace = True)"
   ]
  },
  {
   "cell_type": "code",
   "execution_count": 807,
   "metadata": {},
   "outputs": [],
   "source": [
    "names = list(last_month)\n",
    "new_names = ['last_' + x for x in names]\n",
    "\n",
    "names_map = dict(zip(names,new_names))\n",
    "last_month.rename(columns = names_map, inplace = True)"
   ]
  },
  {
   "cell_type": "code",
   "execution_count": null,
   "metadata": {},
   "outputs": [],
   "source": [
    "#last_month.head()"
   ]
  },
  {
   "cell_type": "code",
   "execution_count": 809,
   "metadata": {},
   "outputs": [],
   "source": [
    "## Rename\n",
    "to_rename = {'last_target': 'target'}\n",
    "\n",
    "last_month.rename(columns = to_rename, inplace = True)"
   ]
  },
  {
   "cell_type": "code",
   "execution_count": 810,
   "metadata": {},
   "outputs": [],
   "source": [
    "## Delete\n",
    "variables_to_drop = ['last_hist_end', 'last_ym_id',\n",
    "                    'last_OLB_rgst_ind'] #not sure why but gives an error so whatever\n",
    "\n",
    "for variable in variables_to_drop:\n",
    "    last_month = last_month.drop(variable,1)"
   ]
  },
  {
   "cell_type": "markdown",
   "metadata": {},
   "source": [
    "## d. Combining into Final Dataset "
   ]
  },
  {
   "cell_type": "code",
   "execution_count": 811,
   "metadata": {},
   "outputs": [],
   "source": [
    "final_data = pd.merge(averages,last_month,left_index=True, right_index=True)"
   ]
  },
  {
   "cell_type": "code",
   "execution_count": null,
   "metadata": {},
   "outputs": [],
   "source": [
    "#final_data.head()"
   ]
  },
  {
   "cell_type": "code",
   "execution_count": 813,
   "metadata": {},
   "outputs": [
    {
     "data": {
      "text/plain": [
       "(98279, 206)"
      ]
     },
     "execution_count": 813,
     "metadata": {},
     "output_type": "execute_result"
    }
   ],
   "source": [
    "final_data.shape"
   ]
  },
  {
   "cell_type": "code",
   "execution_count": 814,
   "metadata": {},
   "outputs": [],
   "source": [
    "data = final_data\n",
    "# data = final_data.loc[(final_data['last_since_cust_since_dt']<12*31) & (final_data['last_cntry_cd'].isin(big_countries)) ,:]\n",
    "# data = data.drop('last_mrtl_st_cd',1)"
   ]
  },
  {
   "cell_type": "code",
   "execution_count": 815,
   "metadata": {},
   "outputs": [],
   "source": [
    "y = data.loc[:,'target']\n",
    "X = data.drop ('target', 1)"
   ]
  },
  {
   "cell_type": "code",
   "execution_count": 816,
   "metadata": {},
   "outputs": [],
   "source": [
    "random = 2019\n",
    "test_prc = 0.3\n",
    "\n",
    "X_train, X_test, y_train, y_test = train_test_split(X, y, test_size = test_prc, random_state = random)"
   ]
  },
  {
   "cell_type": "code",
   "execution_count": 817,
   "metadata": {},
   "outputs": [],
   "source": [
    "data_train = X_train\n",
    "data_train['target'] = y_train\n",
    "\n",
    "data_test = X_test\n",
    "data_test['target'] = y_test"
   ]
  },
  {
   "cell_type": "code",
   "execution_count": 818,
   "metadata": {},
   "outputs": [],
   "source": [
    "def create_dummies(data, to_print):\n",
    "    \n",
    "    categorical_variables = data.select_dtypes(include = ['category', 'object']).columns.tolist()\n",
    "    dummy_variables = pd.get_dummies(data.loc[:,categorical_variables], drop_first = True)\n",
    "\n",
    "    data = pd.merge(data, dummy_variables, left_index = True, right_index = True)\n",
    "    data_out = data.drop(categorical_variables, axis = 1)\n",
    "    \n",
    "    if to_print == 1:\n",
    "    \n",
    "        print (\"List of all categorical variables: \", \"\\n\")\n",
    "        print (*categorical_variables, sep = \"\\n\")\n",
    "        print (\" \")\n",
    "\n",
    "        print (\"After creating dummy variables, the list looks like this: \", \"\\n\")\n",
    "        print ( *data_out.columns.tolist(), sep = \"\\n\")\n",
    "        print (\" \")\n",
    "        \n",
    "    return data_out"
   ]
  },
  {
   "cell_type": "code",
   "execution_count": 819,
   "metadata": {},
   "outputs": [],
   "source": [
    "data_train = create_dummies(data_train,0)\n",
    "data_test = create_dummies(data_test,0)"
   ]
  },
  {
   "cell_type": "code",
   "execution_count": 820,
   "metadata": {},
   "outputs": [
    {
     "name": "stdout",
     "output_type": "stream",
     "text": [
      "\u001b[1mCHECK\n",
      "\u001b[0m\n",
      "In training data, but not in testing: []\n",
      "In testing data, but not in training: [] \n",
      "\n",
      "Variables in training: 232  Records in training: 68,811\n",
      "Variables in testing:  232  Records in testing:  29,490\n"
     ]
    }
   ],
   "source": [
    "print('\\033[1m' + 'CHECK\\n' + '\\033[0m')\n",
    "print('In training data, but not in testing:',list(set(data_train) - set(data_test)))\n",
    "print('In testing data, but not in training:',list(set(data_test) - set(data_train)), '\\n')\n",
    "print('Variables in training:',data_train.shape[1], ' Records in training:','{0:,d}'.format(data_train.shape[0]))\n",
    "print('Variables in testing: ',data_test.shape[1], ' Records in testing: ', '{0:,d}'.format(data_test.shape[0]))"
   ]
  },
  {
   "cell_type": "code",
   "execution_count": null,
   "metadata": {},
   "outputs": [],
   "source": [
    "#data_train.head()"
   ]
  },
  {
   "cell_type": "code",
   "execution_count": 822,
   "metadata": {},
   "outputs": [],
   "source": [
    "all_variables = list (data_train)\n",
    "all_variables.remove('target')\n",
    "\n",
    "#supes_important = ['']\n",
    "#important_from_model = pd.Series(best_classifier.feature_importances_, index=X_test.columns).nlargest(15).reset_index()['index'].tolist()"
   ]
  },
  {
   "cell_type": "code",
   "execution_count": 823,
   "metadata": {},
   "outputs": [],
   "source": [
    "#you can use all_variables, important_variables, or supes_important \n",
    "\n",
    "variables_to_include = all_variables\n",
    "\n",
    "y_train = data_train.loc[:, 'target']\n",
    "X_train = data_train.loc[:, variables_to_include]\n",
    "\n",
    "y_test = data_test.loc[:, 'target']\n",
    "X_test = data_test.loc[:, variables_to_include]"
   ]
  },
  {
   "cell_type": "code",
   "execution_count": 878,
   "metadata": {},
   "outputs": [
    {
     "name": "stdout",
     "output_type": "stream",
     "text": [
      "Fitting 4 folds for each of 50 candidates, totalling 200 fits\n"
     ]
    },
    {
     "name": "stderr",
     "output_type": "stream",
     "text": [
      "[Parallel(n_jobs=1)]: Done 200 out of 200 | elapsed: 164.6min finished\n"
     ]
    },
    {
     "name": "stdout",
     "output_type": "stream",
     "text": [
      "Execution Time Was:  164.76856619914372 minutes\n"
     ]
    },
    {
     "data": {
      "text/plain": [
       "{'base_score': 0.5,\n",
       " 'booster': 'gbtree',\n",
       " 'colsample_bylevel': 1,\n",
       " 'colsample_bytree': 1,\n",
       " 'gamma': 0,\n",
       " 'learning_rate': 0.17702044421191088,\n",
       " 'max_delta_step': 0,\n",
       " 'max_depth': 3,\n",
       " 'min_child_weight': 1,\n",
       " 'missing': None,\n",
       " 'n_estimators': 10,\n",
       " 'n_jobs': 1,\n",
       " 'nthread': None,\n",
       " 'objective': 'binary:logistic',\n",
       " 'random_state': 0,\n",
       " 'reg_alpha': 0,\n",
       " 'reg_lambda': 1,\n",
       " 'scale_pos_weight': 1,\n",
       " 'seed': None,\n",
       " 'silent': True,\n",
       " 'subsample': 1}"
      ]
     },
     "execution_count": 878,
     "metadata": {},
     "output_type": "execute_result"
    }
   ],
   "source": [
    "# ############### XGB Parameter Tunning ################\n",
    "\n",
    "#https://www.analyticsvidhya.com/blog/2016/02/complete-guide-parameter-tuning-gradient-boosting-gbm-python/\n",
    "# consider using GridSearchCV\n",
    "\n",
    "xgb = XGBClassifier()\n",
    "\n",
    "row_num = X_train.shape[0]\n",
    "\n",
    "learning_rate_start = 0.05\n",
    "learning_rate_end = 0.3\n",
    "\n",
    "n_estimators_start = 3\n",
    "n_estimators_end =  40\n",
    "\n",
    "max_depth_start = 3\n",
    "max_depth_end = 40 # If overfitting then reduce this number \n",
    "\n",
    "\n",
    "one_to_left = st.beta(10, 1)  \n",
    "from_zero_positive = st.expon(0, 50)\n",
    "\n",
    "# n_estimators = 3\n",
    "# max_depth = 90\n",
    "# learning_rate = 0.4447547746402069\n",
    "\n",
    "\n",
    "# random_grid = {  \n",
    "#     \"n_estimators\": st.randint(3, 20),\n",
    "#     \"max_depth\": st.randint(3, 25),\n",
    "#     \"learning_rate\": st.uniform(0.05, 0.3) }\n",
    "\n",
    "random_grid = {  \n",
    "    \"n_estimators\": st.randint(n_estimators_start, n_estimators_end),\n",
    "    \"max_depth\": st.randint(max_depth_start, max_depth_end),\n",
    "    \"learning_rate\": st.uniform(learning_rate_start, learning_rate_end)\n",
    "}\n",
    "\n",
    "# Random search of parameters, using 3 fold cross validation, \n",
    "# search across 100 different combinations, and use all available cores\n",
    "xgb_random = RandomizedSearchCV(estimator = xgb, \n",
    "                                           param_distributions = random_grid, \n",
    "                                           n_iter = 50, cv = 4, scoring = 'roc_auc', verbose=True, \n",
    "                                           random_state=42)\n",
    "# Change scoring metric to ROCAUC or others (logloss)\n",
    "\n",
    "\n",
    "start = time.time()\n",
    "xgb_random.fit(X_train,y_train)\n",
    "end = time.time()\n",
    "\n",
    "print(\"Execution Time Was: \", (end - start)/60, \"minutes\")\n",
    "\n",
    "XGBClassifierTuned = XGBClassifier()\n",
    "XGBClassifierTuned.set_params(**xgb_random.best_params_)\n",
    "XGBClassifierTuned.get_params()\n",
    "#####################################################################################"
   ]
  },
  {
   "cell_type": "code",
   "execution_count": 879,
   "metadata": {},
   "outputs": [
    {
     "name": "stdout",
     "output_type": "stream",
     "text": [
      "It started at: 2019-06-28 12:23:09.911486\n",
      "Execution Time Was:  8 seconds\n"
     ]
    }
   ],
   "source": [
    "best_classifier =  XGBClassifierTuned ##RandomForestClassifier() # GradientBoostingClassifier() XGBClassifier() #LogisticRegression()\n",
    "\n",
    "import datetime\n",
    "start = time.time()\n",
    "\n",
    "print(\"It started at:\", datetime.datetime.now())\n",
    "\n",
    "best_classifier.fit(X_train, y_train)\n",
    "\n",
    "end = time.time()\n",
    "\n",
    "model_ran = int(end - start)\n",
    "\n",
    "print(\"Execution Time Was: \", model_ran, \"seconds\")\n",
    "\n",
    "y_pred_test = best_classifier.predict(X_test)\n",
    "y_pred_train = best_classifier.predict(X_train)\n",
    "\n",
    "y_pred_prob_test = best_classifier.predict_proba(X_test)\n",
    "y_pred_prob_train = best_classifier.predict_proba(X_train)"
   ]
  },
  {
   "cell_type": "code",
   "execution_count": 893,
   "metadata": {},
   "outputs": [],
   "source": [
    "########## Different Threshold ##########\n",
    "\n",
    "optimal_idx = np.argmax(tpr - fpr)\n",
    "optimal_threshold = thresholds[optimal_idx]\n",
    "\n",
    "y_pred_test = (y_pred_prob_test[:,1] >=optimal_threshold).astype(bool)\n",
    "y_pred_train = (y_pred_prob_train[:,1] >=optimal_threshold).astype(bool)"
   ]
  },
  {
   "cell_type": "code",
   "execution_count": 894,
   "metadata": {},
   "outputs": [
    {
     "name": "stdout",
     "output_type": "stream",
     "text": [
      " Accuracy on Testing: 66.4 %\n",
      " AUC on Testing: 74.34 %\n",
      " Recall on Testing: 71.42 %\n",
      " Precision on Testing: 23.97 %\n",
      " ############################## \n",
      " Accuracy on Training: 66.42 %\n",
      " AUC on Training:  74.01 %\n",
      " Recall on Training: 70.19 %\n",
      " Precision on Training: 23.92 %\n"
     ]
    }
   ],
   "source": [
    "acc_test = round(100*accuracy_score(y_test, y_pred_test),2)\n",
    "acc_train = round(100*accuracy_score(y_train, y_pred_train),2)\n",
    "\n",
    "auc_test = round(100*roc_auc_score(y_test, y_pred_prob_test[:,1]),2)\n",
    "auc_train = round(100*roc_auc_score(y_train, y_pred_prob_train[:,1]),2)\n",
    "\n",
    "tn_test, fp_test, fn_test, tp_test = confusion_matrix(y_test, y_pred_test).ravel()\n",
    "tn_train, fp_train, fn_train, tp_train = confusion_matrix(y_train, y_pred_train).ravel()\n",
    "\n",
    "recall_test = round(100*tp_test/(tp_test+fn_test),2)\n",
    "precision_test = round(100*tp_test/(tp_test+fp_test),2)\n",
    "\n",
    "recall_train = round(100*tp_train/(tp_train+fn_train),2)\n",
    "precision_train = round(100*tp_train/(tp_train+fp_train),2) \n",
    "\n",
    "print(\n",
    "      \" Accuracy on Testing:\", acc_test, \"%\\n\", \n",
    "       \"AUC on Testing:\", auc_test, \"%\\n\",\n",
    "      \"Recall on Testing:\",recall_test, \"%\\n\",\n",
    "      \"Precision on Testing:\", precision_test, \"%\\n\",\n",
    "      \"##############################\", \"\\n\",\n",
    "      \"Accuracy on Training:\", acc_train, \"%\\n\",\n",
    "      \"AUC on Training: \", auc_train, \"%\\n\",\n",
    "      \"Recall on Training:\", recall_train, \"%\\n\",\n",
    "      \"Precision on Training:\", precision_train, \"%\"\n",
    ")"
   ]
  },
  {
   "cell_type": "code",
   "execution_count": 895,
   "metadata": {},
   "outputs": [
    {
     "data": {
      "image/png": "[encoded data removed]",
      "text/plain": [
       "<Figure size 432x288 with 1 Axes>"
      ]
     },
     "metadata": {},
     "output_type": "display_data"
    }
   ],
   "source": [
    "#plot = plot_importance(best_classifier, max_num_features=15)\n",
    "features_plot = pd.Series(best_classifier.feature_importances_, index=X_test.columns).nlargest(15).plot(kind='barh')"
   ]
  },
  {
   "cell_type": "code",
   "execution_count": 896,
   "metadata": {},
   "outputs": [
    {
     "data": {
      "image/png": "[encoded data removed]",
      "text/plain": [
       "<Figure size 432x288 with 1 Axes>"
      ]
     },
     "metadata": {},
     "output_type": "display_data"
    }
   ],
   "source": [
    "#ROC Curve: Test\n",
    "fpr, tpr, thresholds = roc_curve(y_test, y_pred_prob_test[:,1])\n",
    "\n",
    "plt.clf()\n",
    "plt.plot(fpr, tpr)\n",
    "plt.xlabel('FPR')\n",
    "plt.ylabel('TPR')\n",
    "plt.title('ROC curve')\n",
    "plt.show()"
   ]
  },
  {
   "cell_type": "code",
   "execution_count": 897,
   "metadata": {},
   "outputs": [
    {
     "data": {
      "image/png": "[encoded data removed]",
      "text/plain": [
       "<Figure size 432x288 with 2 Axes>"
      ]
     },
     "metadata": {},
     "output_type": "display_data"
    }
   ],
   "source": [
    "cm = skplt.metrics.plot_confusion_matrix(y_test, y_pred_test, normalize=True)"
   ]
  },
  {
   "cell_type": "code",
   "execution_count": 898,
   "metadata": {},
   "outputs": [
    {
     "data": {
      "image/png": "[encoded data removed]",
      "text/plain": [
       "<Figure size 432x288 with 1 Axes>"
      ]
     },
     "metadata": {},
     "output_type": "display_data"
    }
   ],
   "source": [
    "# skplt.metrics.plot_confusion_matrix(y_test, y_pred_test, normalize=True)\n",
    "rc = skplt.metrics.plot_roc(y_test, y_pred_prob_test)\n",
    "# skplt.metrics.plot_ks_statistic(y_test, y_pred_prob_test)\n",
    "# skplt.metrics.plot_precision_recall(y_test, y_pred_prob_test)\n",
    "# skplt.metrics.plot_cumulative_gain(y_test, y_pred_prob_test)\n",
    "# skplt.metrics.plot_lift_curve(y_test, y_pred_prob_test)"
   ]
  },
  {
   "cell_type": "code",
   "execution_count": 899,
   "metadata": {},
   "outputs": [
    {
     "data": {
      "image/png": "[encoded data removed]",
      "text/plain": [
       "<Figure size 432x288 with 1 Axes>"
      ]
     },
     "metadata": {},
     "output_type": "display_data"
    }
   ],
   "source": [
    "skplt.metrics.plot_ks_statistic(y_test, y_pred_prob_test)\n",
    "plt.show()"
   ]
  },
  {
   "cell_type": "code",
   "execution_count": 900,
   "metadata": {},
   "outputs": [
    {
     "data": {
      "text/plain": [
       "array([[16807,  8799],\n",
       "       [ 1110,  2774]])"
      ]
     },
     "execution_count": 900,
     "metadata": {},
     "output_type": "execute_result"
    }
   ],
   "source": [
    "confusion_matrix(y_test, y_pred_test)"
   ]
  },
  {
   "cell_type": "code",
   "execution_count": 901,
   "metadata": {},
   "outputs": [
    {
     "name": "stdout",
     "output_type": "stream",
     "text": [
      "True Positive: 2,774 \n",
      "False Positive: 8,799 \n",
      "True Negative: 16,807 \n",
      "False Negative: 1,110\n"
     ]
    }
   ],
   "source": [
    "tn, fp, fn, tp = confusion_matrix(y_test, y_pred_test).ravel()\n",
    "print('True Positive:', commas(tp),'\\nFalse Positive:', commas(fp), '\\nTrue Negative:', \n",
    "      commas(tn),'\\nFalse Negative:', commas(fn))"
   ]
  },
  {
   "cell_type": "code",
   "execution_count": 902,
   "metadata": {},
   "outputs": [
    {
     "data": {
      "image/png": "[encoded data removed]",
      "text/plain": [
       "<Figure size 432x288 with 1 Axes>"
      ]
     },
     "metadata": {},
     "output_type": "display_data"
    }
   ],
   "source": [
    "variable = 'last_since_cust_since_dt'\n",
    "\n",
    "target = data.loc[ data['target'] == 1,variable]/30\n",
    "nontarget=  data.loc[ data['target'] == 0,variable]/30\n",
    "\n",
    "kwargs = dict(histtype='stepfilled', alpha=0.3, normed=True, bins=10)\n",
    "plt.hist(target, label = 'Target', **kwargs)\n",
    "plt.hist(nontarget, label = 'Non Target', **kwargs)\n",
    "plt.legend();"
   ]
  },
  {
   "cell_type": "code",
   "execution_count": 903,
   "metadata": {},
   "outputs": [
    {
     "data": {
      "image/png": "[encoded data removed]",
      "text/plain": [
       "<Figure size 432x288 with 1 Axes>"
      ]
     },
     "metadata": {},
     "output_type": "display_data"
    }
   ],
   "source": [
    "plt.hist(y_pred_prob_test[:,1], histtype='stepfilled', bins=10);"
   ]
  },
  {
   "cell_type": "code",
   "execution_count": 904,
   "metadata": {},
   "outputs": [
    {
     "data": {
      "image/png": "[encoded data removed]",
      "text/plain": [
       "<Figure size 432x288 with 1 Axes>"
      ]
     },
     "metadata": {},
     "output_type": "display_data"
    }
   ],
   "source": [
    "skplt.metrics.plot_lift_curve(y_test, y_pred_prob_test);"
   ]
  },
  {
   "cell_type": "code",
   "execution_count": 905,
   "metadata": {},
   "outputs": [
    {
     "data": {
      "image/png": "[encoded data removed]",
      "text/plain": [
       "<Figure size 432x288 with 1 Axes>"
      ]
     },
     "metadata": {},
     "output_type": "display_data"
    }
   ],
   "source": [
    "skplt.metrics.plot_cumulative_gain(y_test, y_pred_prob_test);"
   ]
  },
  {
   "cell_type": "code",
   "execution_count": 875,
   "metadata": {},
   "outputs": [],
   "source": [
    "# # Hypothesis: maybe non target doesnt have any spend?\n",
    "# # Yearly metric is not a good one, because low tenure have not been with us for a full year\n",
    "# # Oh wait, nevermind, its year to date, doesnt even make sense as a variable \n",
    "\n",
    "# all_data.groupby(['target']).mean()[['YTD_pur_amt']]\n",
    "\n",
    "# check = all_data.loc[all_data['YTD_pur_amt']<100,:]\n",
    "# check.groupby(['target']).count()[['cad_ip_id']]"
   ]
  },
  {
   "cell_type": "code",
   "execution_count": 876,
   "metadata": {},
   "outputs": [],
   "source": [
    "# # Hypothesis: maybe non target doesnt have any adb?\n",
    "\n",
    "# all_data.groupby(['target']).mean()[['ADB_amt']]\n",
    "\n",
    "# check = all_data.loc[all_data['ADB_amt']<10,:]\n",
    "# check.groupby(['target']).count()[['cad_ip_id']]"
   ]
  },
  {
   "cell_type": "code",
   "execution_count": 877,
   "metadata": {},
   "outputs": [],
   "source": [
    "#### LOW TENURE: The best so far - but very close to non tuned XGBoost\n",
    "\n",
    "# {'base_score': 0.5,\n",
    "#  'booster': 'gbtree',\n",
    "#  'colsample_bylevel': 1,\n",
    "#  'colsample_bytree': 0.8585780187172999,\n",
    "#  'gamma': 0.7276300636419353,\n",
    "#  'learning_rate': 0.3787440237161425,\n",
    "#  'max_delta_step': 0,\n",
    "#  'max_depth': 4,\n",
    "#  'min_child_weight': 4.242437529015604,\n",
    "#  'missing': None,\n",
    "#  'n_estimators': 39,\n",
    "#  'n_jobs': 1,\n",
    "#  'nthread': None,\n",
    "#  'objective': 'binary:logistic',\n",
    "#  'random_state': 0,\n",
    "#  'reg_alpha': 13.278293915989073,\n",
    "#  'reg_lambda': 1,\n",
    "#  'scale_pos_weight': 1,\n",
    "#  'seed': None,\n",
    "#  'silent': True,\n",
    "#  'subsample': 0.8400406850667709}"
   ]
  },
  {
   "cell_type": "code",
   "execution_count": null,
   "metadata": {},
   "outputs": [],
   "source": []
  },
  {
   "cell_type": "code",
   "execution_count": null,
   "metadata": {},
   "outputs": [],
   "source": []
  }
 ],
 "metadata": {
  "creator": "vcherno",
  "kernelspec": {
   "display_name": "Python (env Python3)",
   "language": "python",
   "name": "py-dku-venv-python3"
  },
  "language_info": {
   "codemirror_mode": {
    "name": "ipython",
    "version": 3
   },
   "file_extension": ".py",
   "mimetype": "text/x-python",
   "name": "python",
   "nbconvert_exporter": "python",
   "pygments_lexer": "ipython3",
   "version": "3.6.5"
  },
  "tags": []
 },
 "nbformat": 4,
 "nbformat_minor": 1
}
